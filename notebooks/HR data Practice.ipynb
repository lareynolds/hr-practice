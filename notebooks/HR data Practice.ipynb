{
 "cells": [
  {
   "cell_type": "markdown",
   "id": "2ac688ce-2c54-465f-b9e8-35a7d4d57dce",
   "metadata": {},
   "source": [
    "# The Problem\n",
    "I wanted some practice answering questions based on Human Resource data.\n",
    "\n",
    "# The Data\n",
    "I like to see what Kaggle has for datasets because I can usually find something close to the data I want to practice on.  using the [Human Resources Data Set](https://www.kaggle.com/datasets/rhuebner/human-resources-data-set/data) by Dr. Carla Patalano and Dr. Rich Huebner.\n",
    "\n",
    "# The Approach\n",
    "Until I am able to work in an environment long enough to become familur with the typical types  of questions asked about an organizations data, I like to ask ChatGPT to provide random questions that might be asked of a data professional based on the dataset I am using. In this instance, ChatGPT came up with a lot questions in seven categories:\n",
    "- Employee Retention and Turnover\n",
    "- Performance and Promotions\n",
    "- Diversity and Inclusion\n",
    "- Compensation and Benefits\n",
    "- Workplace Dynamics\n",
    "- Predictive and Prescriptive Analytics\n",
    "- Strategic Workforce Planning\n",
    "\n",
    "For this project, I took one question in each section.\n",
    "1. Are there specific departments or job roles with higher turnover rates?\n",
    "2. Do employees who receive regular training or certifications perform better or stay longer?\n",
    "3. Are there disparities in promotion rates across different gender or age groups?\n",
    "4. Are there trends in benefits utilization that correlate with retention or performance?\n",
    "5. Do employees with higher engagement scores tend to stay longer or perform better?\n",
    "6. Can we build a model to predict which employees are most at risk of leaving within the next 6-12 months?\n",
    "7. Are there gaps in skills or experience across the workforce that need to be addressed?\n",
    "\n",
    "\n",
    "I told ChatGPT that I wanted to do a practice data science project"
   ]
  },
  {
   "cell_type": "code",
   "execution_count": null,
   "id": "281162a9-e0f4-4e3a-9ddf-efdfbe73efc7",
   "metadata": {},
   "outputs": [],
   "source": [
    "import kagglehub\n",
    "\n",
    "# Download latest version\n",
    "path = kagglehub.dataset_download(\"rhuebner/human-resources-data-set\")"
   ]
  },
  {
   "cell_type": "code",
   "execution_count": 3,
   "id": "93c8a034-8bb2-47c4-8c38-0e8076a802cf",
   "metadata": {},
   "outputs": [],
   "source": [
    "import pandas as pd"
   ]
  },
  {
   "cell_type": "code",
   "execution_count": 4,
   "id": "7a6035fd-7949-4298-af49-ca9703fe4892",
   "metadata": {},
   "outputs": [],
   "source": [
    "data = pd.read_csv(\"C:\\\\Users\\\\pixie\\\\GitHub\\hr-practice\\\\data\\\\raw\\\\HRDataset_v14.csv\")"
   ]
  },
  {
   "cell_type": "code",
   "execution_count": 5,
   "id": "445d59bb-255e-4fed-b517-9330192d6efd",
   "metadata": {},
   "outputs": [
    {
     "name": "stdout",
     "output_type": "stream",
     "text": [
      "<bound method NDFrame.head of                 Employee_Name  EmpID  MarriedID  MaritalStatusID  GenderID  \\\n",
      "0         Adinolfi, Wilson  K  10026          0                0         1   \n",
      "1    Ait Sidi, Karthikeyan     10084          1                1         1   \n",
      "2           Akinkuolie, Sarah  10196          1                1         0   \n",
      "3                Alagbe,Trina  10088          1                1         0   \n",
      "4            Anderson, Carol   10069          0                2         0   \n",
      "..                        ...    ...        ...              ...       ...   \n",
      "306            Woodson, Jason  10135          0                0         1   \n",
      "307        Ybarra, Catherine   10301          0                0         0   \n",
      "308          Zamora, Jennifer  10010          0                0         0   \n",
      "309               Zhou, Julia  10043          0                0         0   \n",
      "310             Zima, Colleen  10271          0                4         0   \n",
      "\n",
      "     EmpStatusID  DeptID  PerfScoreID  FromDiversityJobFairID  Salary  ...  \\\n",
      "0              1       5            4                       0   62506  ...   \n",
      "1              5       3            3                       0  104437  ...   \n",
      "2              5       5            3                       0   64955  ...   \n",
      "3              1       5            3                       0   64991  ...   \n",
      "4              5       5            3                       0   50825  ...   \n",
      "..           ...     ...          ...                     ...     ...  ...   \n",
      "306            1       5            3                       0   65893  ...   \n",
      "307            5       5            1                       0   48513  ...   \n",
      "308            1       3            4                       0  220450  ...   \n",
      "309            1       3            3                       0   89292  ...   \n",
      "310            1       5            3                       0   45046  ...   \n",
      "\n",
      "        ManagerName  ManagerID  RecruitmentSource PerformanceScore  \\\n",
      "0    Michael Albert       22.0           LinkedIn          Exceeds   \n",
      "1        Simon Roup        4.0             Indeed      Fully Meets   \n",
      "2    Kissy Sullivan       20.0           LinkedIn      Fully Meets   \n",
      "3      Elijiah Gray       16.0             Indeed      Fully Meets   \n",
      "4    Webster Butler       39.0      Google Search      Fully Meets   \n",
      "..              ...        ...                ...              ...   \n",
      "306  Kissy Sullivan       20.0           LinkedIn      Fully Meets   \n",
      "307  Brannon Miller       12.0      Google Search              PIP   \n",
      "308      Janet King        2.0  Employee Referral          Exceeds   \n",
      "309      Simon Roup        4.0  Employee Referral      Fully Meets   \n",
      "310   David Stanley       14.0           LinkedIn      Fully Meets   \n",
      "\n",
      "     EngagementSurvey EmpSatisfaction SpecialProjectsCount  \\\n",
      "0                4.60               5                    0   \n",
      "1                4.96               3                    6   \n",
      "2                3.02               3                    0   \n",
      "3                4.84               5                    0   \n",
      "4                5.00               4                    0   \n",
      "..                ...             ...                  ...   \n",
      "306              4.07               4                    0   \n",
      "307              3.20               2                    0   \n",
      "308              4.60               5                    6   \n",
      "309              5.00               3                    5   \n",
      "310              4.50               5                    0   \n",
      "\n",
      "    LastPerformanceReview_Date DaysLateLast30 Absences  \n",
      "0                    1/17/2019              0        1  \n",
      "1                    2/24/2016              0       17  \n",
      "2                    5/15/2012              0        3  \n",
      "3                     1/3/2019              0       15  \n",
      "4                     2/1/2016              0        2  \n",
      "..                         ...            ...      ...  \n",
      "306                  2/28/2019              0       13  \n",
      "307                   9/2/2015              5        4  \n",
      "308                  2/21/2019              0       16  \n",
      "309                   2/1/2019              0       11  \n",
      "310                  1/30/2019              0        2  \n",
      "\n",
      "[311 rows x 36 columns]>\n"
     ]
    }
   ],
   "source": [
    "print(data.head)"
   ]
  },
  {
   "cell_type": "code",
   "execution_count": null,
   "id": "a9af7884-a613-4f1e-a36b-4b90469938df",
   "metadata": {},
   "outputs": [],
   "source": []
  }
 ],
 "metadata": {
  "kernelspec": {
   "display_name": "Python 3 (ipykernel)",
   "language": "python",
   "name": "python3"
  },
  "language_info": {
   "codemirror_mode": {
    "name": "ipython",
    "version": 3
   },
   "file_extension": ".py",
   "mimetype": "text/x-python",
   "name": "python",
   "nbconvert_exporter": "python",
   "pygments_lexer": "ipython3",
   "version": "3.9.18"
  }
 },
 "nbformat": 4,
 "nbformat_minor": 5
}
